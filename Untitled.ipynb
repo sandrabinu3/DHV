{
 "cells": [
  {
   "cell_type": "code",
   "execution_count": 1,
   "id": "b02dfb6e",
   "metadata": {},
   "outputs": [],
   "source": [
    "import pandas as pd\n",
    "import numpy as np\n",
    "import matplotlib.pyplot as plt\n",
    "import seaborn as sns\n",
    "\n",
    "co2=pd.read_csv(r'C:\\Users\\bc975789\\OneDrive - Skanska\\Desktop\\DHV\\co2.csv',skiprows=3)\n",
    "\n",
    "yr = [str(year) for year in range(1960, 2011)] + [str(year)\n",
    "                                                      for year in range(2021, 2023)]\n",
    "country=['Brazil','Germany','France','United Kingdom','South Africa']\n",
    "\n",
    "\n",
    "co2_df = co2.drop(columns=yr)\n",
    "co2_df = co2_df.drop(co2_df.columns[-1:], axis=1)\n",
    "\n",
    "\n",
    "co2_df = co2_df.drop(co2_df.columns[1:4], axis=1)\n",
    "\n",
    "#co2_df\n",
    "\n",
    "co2 = co2_df[(co2_df['Country Name'].isin(country))]\n",
    "\n",
    "tran=co2.iloc[:,1:]\n",
    "\n",
    "co2\n",
    "\n",
    "plt.figure(figsize=(10, 6))\n",
    "\n",
    "# draw 3 lines corresponding to the 3 indicators\n",
    "plt.plot(tran.transpose(),label=co2['Country Name'])\n",
    "# labeling and limiting the axes\n",
    "plt.legend()\n",
    "plt.show()\n",
    "\n"
   ]
  }
 ],
 "metadata": {
  "kernelspec": {
   "display_name": "Python 3 (ipykernel)",
   "language": "python",
   "name": "python3"
  },
  "language_info": {
   "codemirror_mode": {
    "name": "ipython",
    "version": 3
   },
   "file_extension": ".py",
   "mimetype": "text/x-python",
   "name": "python",
   "nbconvert_exporter": "python",
   "pygments_lexer": "ipython3",
   "version": "3.11.5"
  }
 },
 "nbformat": 4,
 "nbformat_minor": 5
}
